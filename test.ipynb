{
 "cells": [
  {
   "cell_type": "code",
   "execution_count": 1,
   "metadata": {},
   "outputs": [],
   "source": [
    "from torch import nn \n",
    "import pytorch_lightning as pl\n",
    "import torch.nn.functional as F\n",
    "import pytorch_lightning as pl\n",
    "from torch import nn as nn, optim, from_numpy\n",
    "import numpy as np\n",
    "import matplotlib.pyplot as plt"
   ]
  },
  {
   "cell_type": "code",
   "execution_count": 2,
   "metadata": {},
   "outputs": [],
   "source": [
    "class Encoder(nn.Module):\n",
    "    def __init__(self, in_dim = 3,latent_dim = 16, out_dim = 5, kernel = 3) -> None:\n",
    "        super().__init__()\n",
    "        self.in_dim = in_dim\n",
    "        self.out_dim = out_dim\n",
    "        self.latent_dim  = latent_dim\n",
    "        self.kernel = kernel\n",
    "        self.encoder = nn.Sequential(\n",
    "            nn.Conv2d(self.in_dim,  self.latent_dim * 3, self.kernel, padding=1),\n",
    "            nn.ReLU(),\n",
    "            nn.Conv2d(self.latent_dim * 3,  self.latent_dim * 5, self.kernel, padding=1),\n",
    "            nn.ReLU(),\n",
    "            nn.MaxPool2d(2, 2),\n",
    "            nn.Conv2d(self.latent_dim  * 5, self.latent_dim , self.kernel, padding=1),\n",
    "            nn.ReLU(),\n",
    "            nn.ReLU(),\n",
    "            nn.MaxPool2d(2, 2),\n",
    "            nn.Conv2d(self.latent_dim, self.out_dim, self.kernel, padding=1),\n",
    "            nn.ReLU(),\n",
    "            nn.MaxPool2d(2, 2)\n",
    "        )\n",
    "    \n",
    "    def forward(self, x):\n",
    "        encoded = self.encoder(x)\n",
    "        return encoded\n",
    "    \n",
    "class PrintDim(nn.Module):\n",
    "    def __init__(self) -> None:\n",
    "        super().__init__()\n",
    "    def forward(self, x):\n",
    "        print(x.shape)\n",
    "        print(\"-\" * 50)\n",
    "        return x\n",
    "    \n",
    "class Decoder(nn.Module):\n",
    "    def __init__(self, in_dim = 5, latent_dim = 16, out_dim = 3, kernel = 2) -> None:\n",
    "        super().__init__()\n",
    "        self.in_dim = in_dim\n",
    "        self.latent_dim = latent_dim\n",
    "        self.out_dim = out_dim\n",
    "        self.kernel = kernel\n",
    "        self.decoder = nn.Sequential(\n",
    "            nn.ConvTranspose2d(self.in_dim, self.latent_dim, self.kernel, stride = 2, output_padding=1),\n",
    "            nn.ReLU(),\n",
    "            nn.ConvTranspose2d(self.latent_dim, self.latent_dim * 5, self.kernel, stride = 2),\n",
    "            nn.ReLU(),\n",
    "            nn.ConvTranspose2d(self.latent_dim * 5, self.latent_dim * 3, self.kernel, stride = 2),\n",
    "            nn.ReLU(),\n",
    "            nn.ConvTranspose2d(self.latent_dim * 3, self.out_dim, kernel_size=2),\n",
    "            nn.Sigmoid()\n",
    "            \n",
    "        )\n",
    "    def forward(self, x):\n",
    "        reconstructed = self.decoder(x)\n",
    "        return reconstructed"
   ]
  },
  {
   "cell_type": "code",
   "execution_count": 3,
   "metadata": {},
   "outputs": [
    {
     "data": {
      "text/plain": [
       "torch.Size([128, 3, 125, 125])"
      ]
     },
     "execution_count": 3,
     "metadata": {},
     "output_type": "execute_result"
    }
   ],
   "source": [
    "encoder = Encoder()\n",
    "decoder = Decoder()\n",
    "x = np.zeros((128, 3, 125, 125), dtype=np.float32)\n",
    "x = from_numpy(x)\n",
    "encoded = encoder(x)\n",
    "reconstructed = decoder(encoded)\n",
    "reconstructed.shape\n"
   ]
  },
  {
   "cell_type": "code",
   "execution_count": 4,
   "metadata": {},
   "outputs": [],
   "source": [
    "class ConvAutoEncoder(pl.LightningModule):\n",
    "    def __init__(self) -> None:\n",
    "        super().__init__()\n",
    "        self.encoder = Encoder()\n",
    "        self.decoder = Decoder()\n",
    "        self.save_hyperparameters()\n",
    "\n",
    "    def forward(self, x):\n",
    "        z = self.encoder(x)\n",
    "        x_hat = self.decoder(z)\n",
    "        return x_hat\n",
    "    \n",
    "    def _get_reconstruction_loss(self, batch):\n",
    "        reconstructed = self.decoder(self.encoder(batch))\n",
    "        loss = F.mse_loss(batch, reconstructed, reduction=\"mean\" )\n",
    "        # print(loss.shape)\n",
    "        return loss\n",
    "    \n",
    "    def configure_optimizers(self):\n",
    "        optimiser = optim.Adagrad(self.parameters(), lr = 1e-3)\n",
    "        scheduler = optim.lr_scheduler.ReduceLROnPlateau(optimizer=optimiser,\n",
    "                                                         mode='min',\n",
    "                                                         factor=.2,\n",
    "                                                         patience=10,\n",
    "                                                         min_lr = 2e-5\n",
    "                                                         )\n",
    "        return {\n",
    "                \"optimizer\": optimiser,\n",
    "                \"lr_scheduler\":scheduler,\n",
    "                \"monitor\":\"val_loss\"\n",
    "                }\n",
    "    def training_step(self, batch, batc_idx):\n",
    "        loss = self._get_reconstruction_loss(batch)\n",
    "        self.log(\"train_loss\", loss.item())\n",
    "        return loss\n",
    "    def validation_step(self, batch, batch_idx):\n",
    "        loss = self._get_reconstruction_loss(batch)\n",
    "        self.log(\"val_loss\", loss.item())\n",
    "        return loss\n",
    "    def test_step(self, batch, batch_idx):\n",
    "        loss = self._get_reconstruction_loss(batch)\n",
    "        self.log(\"test_loss\", loss.item())\n",
    "        return loss\n",
    "    "
   ]
  },
  {
   "cell_type": "code",
   "execution_count": 5,
   "metadata": {},
   "outputs": [
    {
     "name": "stderr",
     "output_type": "stream",
     "text": [
      "GPU available: True (cuda), used: True\n",
      "TPU available: False, using: 0 TPU cores\n",
      "IPU available: False, using: 0 IPUs\n",
      "HPU available: False, using: 0 HPUs\n"
     ]
    }
   ],
   "source": [
    "trainer = pl.Trainer(accelerator=\"gpu\", \n",
    "                     devices=\"auto\",\n",
    "                     max_epochs=50\n",
    "                     )"
   ]
  },
  {
   "cell_type": "code",
   "execution_count": 6,
   "metadata": {},
   "outputs": [],
   "source": [
    "model = ConvAutoEncoder()"
   ]
  },
  {
   "cell_type": "code",
   "execution_count": 7,
   "metadata": {},
   "outputs": [],
   "source": [
    "import multiprocessing as mp\n",
    "from src.data import QuarkDatasetTask1, train_val_test_split\n",
    "from torch.utils.data import DataLoader\n",
    "path = \"Data/processed/quark-gluon-uncompressed.hdf5\"\n",
    "cpu_count = mp.cpu_count()\n",
    "dataset = QuarkDatasetTask1(path, 3)\n",
    "datasets = train_val_test_split(dataset)\n",
    "data_loaders = {}\n",
    "for key in datasets.keys():\n",
    "    if key == \"train\":\n",
    "        data_loaders[key] = DataLoader(datasets[key], batch_size=32, shuffle=True, num_workers=cpu_count, prefetch_factor=2* cpu_count)\n",
    "    else:\n",
    "        data_loaders[key] = DataLoader(datasets[key], batch_size=32, shuffle=False, num_workers=cpu_count, prefetch_factor=2 *cpu_count)"
   ]
  },
  {
   "cell_type": "code",
   "execution_count": 8,
   "metadata": {},
   "outputs": [
    {
     "name": "stderr",
     "output_type": "stream",
     "text": [
      "LOCAL_RANK: 0 - CUDA_VISIBLE_DEVICES: [0]\n",
      "\n",
      "  | Name    | Type    | Params\n",
      "------------------------------------\n",
      "0 | encoder | Encoder | 48.2 K\n",
      "1 | decoder | Decoder | 21.5 K\n",
      "------------------------------------\n",
      "69.8 K    Trainable params\n",
      "0         Non-trainable params\n",
      "69.8 K    Total params\n",
      "0.279     Total estimated model params size (MB)\n"
     ]
    },
    {
     "data": {
      "application/vnd.jupyter.widget-view+json": {
       "model_id": "6f6668680e914a2a93577f2c51970d9a",
       "version_major": 2,
       "version_minor": 0
      },
      "text/plain": [
       "Sanity Checking: 0it [00:00, ?it/s]"
      ]
     },
     "metadata": {},
     "output_type": "display_data"
    },
    {
     "data": {
      "application/vnd.jupyter.widget-view+json": {
       "model_id": "7adc13fc722b4b98b31bc29cc5d25ec8",
       "version_major": 2,
       "version_minor": 0
      },
      "text/plain": [
       "Training: 0it [00:00, ?it/s]"
      ]
     },
     "metadata": {},
     "output_type": "display_data"
    },
    {
     "data": {
      "application/vnd.jupyter.widget-view+json": {
       "model_id": "4ee87ea392f14e0795c8e736bff23086",
       "version_major": 2,
       "version_minor": 0
      },
      "text/plain": [
       "Validation: 0it [00:00, ?it/s]"
      ]
     },
     "metadata": {},
     "output_type": "display_data"
    },
    {
     "name": "stderr",
     "output_type": "stream",
     "text": [
      "/home/guru/miniconda3/envs/gnn/lib/python3.9/site-packages/pytorch_lightning/trainer/call.py:48: UserWarning: Detected KeyboardInterrupt, attempting graceful shutdown...\n",
      "  rank_zero_warn(\"Detected KeyboardInterrupt, attempting graceful shutdown...\")\n"
     ]
    }
   ],
   "source": [
    "trainer.fit(model, data_loaders[\"train\"], data_loaders['val'])"
   ]
  },
  {
   "cell_type": "code",
   "execution_count": null,
   "metadata": {},
   "outputs": [],
   "source": [
    "x = next(iter(data_loaders['test']))"
   ]
  },
  {
   "cell_type": "code",
   "execution_count": null,
   "metadata": {},
   "outputs": [
    {
     "name": "stderr",
     "output_type": "stream",
     "text": [
      "LOCAL_RANK: 0 - CUDA_VISIBLE_DEVICES: [0]\n"
     ]
    },
    {
     "data": {
      "application/vnd.jupyter.widget-view+json": {
       "model_id": "4248b9112fef427392bace15e6143150",
       "version_major": 2,
       "version_minor": 0
      },
      "text/plain": [
       "Predicting: 108it [00:00, ?it/s]"
      ]
     },
     "metadata": {},
     "output_type": "display_data"
    },
    {
     "name": "stderr",
     "output_type": "stream",
     "text": [
      "/home/guru/miniconda3/envs/gnn/lib/python3.9/site-packages/pytorch_lightning/loops/epoch/prediction_epoch_loop.py:173: UserWarning: Lightning couldn't infer the indices fetched for your dataloader.\n",
      "  warning_cache.warn(\"Lightning couldn't infer the indices fetched for your dataloader.\")\n"
     ]
    }
   ],
   "source": [
    "x_hat = trainer.predict(model, x)"
   ]
  },
  {
   "cell_type": "code",
   "execution_count": null,
   "metadata": {},
   "outputs": [
    {
     "data": {
      "image/png": "[encoded data removed]",
      "text/plain": [
       "<Figure size 1000x500 with 4 Axes>"
      ]
     },
     "metadata": {},
     "output_type": "display_data"
    }
   ],
   "source": [
    "rows = 1\n",
    "cols = 2\n",
    "fig, axes = plt.subplots(nrows=rows, ncols=cols, figsize = (10,5))\n",
    "fig.add_subplot(rows, cols, 1)\n",
    "plt.imshow(x[0][2], aspect='auto')\n",
    "fig.add_subplot(rows, cols, 2)\n",
    "plt.imshow(x_hat[0][2].detach().numpy().reshape(125, 125), aspect='auto')\n",
    "plt.show()"
   ]
  },
  {
   "cell_type": "code",
   "execution_count": null,
   "metadata": {},
   "outputs": [],
   "source": []
  }
 ],
 "metadata": {
  "kernelspec": {
   "display_name": "gnn",
   "language": "python",
   "name": "python3"
  },
  "language_info": {
   "codemirror_mode": {
    "name": "ipython",
    "version": 3
   },
   "file_extension": ".py",
   "mimetype": "text/x-python",
   "name": "python",
   "nbconvert_exporter": "python",
   "pygments_lexer": "ipython3",
   "version": "3.9.16"
  },
  "orig_nbformat": 4
 },
 "nbformat": 4,
 "nbformat_minor": 2
}
