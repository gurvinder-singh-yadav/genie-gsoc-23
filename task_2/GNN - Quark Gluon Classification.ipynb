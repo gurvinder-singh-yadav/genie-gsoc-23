{
 "cells": [
  {
   "cell_type": "code",
   "execution_count": 1,
   "metadata": {},
   "outputs": [],
   "source": [
    "from torch.utils.data import Dataset as TorchDataset\n",
    "import h5py\n",
    "import torch\n",
    "from torch_geometric.data import Dataset as PygDataset, Data\n",
    "from torch_geometric.loader import DataLoader\n",
    "import numpy as np\n",
    "import os.path as osp\n",
    "import os\n",
    "import multiprocessing as mp\n",
    "import torch.nn.functional as F\n",
    "from multiprocessing import Pool\n",
    "from torch_geometric.nn import GATConv, Linear, TopKPooling, global_max_pool as gmp, global_mean_pool as gap\n",
    "import torch_geometric.transforms as T\n",
    "from torch_geometric.datasets import Planetoid\n",
    "from tqdm import tqdm\n",
    "cpu_count = mp.cpu_count()\n"
   ]
  },
  {
   "cell_type": "code",
   "execution_count": 2,
   "metadata": {},
   "outputs": [],
   "source": [
    "quark_gluon_path = \"../Data/hdf5/processed/quark-gluon-dataset.hdf5\""
   ]
  },
  {
   "cell_type": "code",
   "execution_count": 3,
   "metadata": {},
   "outputs": [],
   "source": [
    "def subset_dataset(raw_path, processed_path, subset_len = 6000, starter = 0):\n",
    "    with h5py.File(raw_path, 'r') as f, h5py.File(processed_path, 'w') as p:\n",
    "        keys = list(f.keys())\n",
    "        total_events = f[keys[1]].shape[0]\n",
    "        for key in keys:\n",
    "            shape = (subset_len,)\n",
    "            if len(f[key].shape) > 1:\n",
    "                shape = (subset_len, 125, 125, 3)\n",
    "            p.create_dataset(key, shape=shape)\n",
    "        quark_count = 0\n",
    "        gluon_count = 0\n",
    "        idx = 0\n",
    "        for i in range(starter, starter + subset_len):\n",
    "            if quark_count < subset_len // 2:\n",
    "                for key in keys:\n",
    "                    p[key][idx] = f[key][i]\n",
    "                quark_count += 1\n",
    "                idx += 1\n",
    "            elif gluon_count < subset_len // 2:\n",
    "                for key in keys:\n",
    "                    p[key][idx] = f[key][i]\n",
    "                gluon_count += 1\n",
    "                idx+=1\n"
   ]
  },
  {
   "cell_type": "code",
   "execution_count": 4,
   "metadata": {},
   "outputs": [],
   "source": [
    "train_path = \"../Data/hdf5/processed/train.hdf5\"\n",
    "val_path = \"../Data/hdf5/processed/val.hdf5\"\n",
    "test_path = \"../Data/hdf5/processed/test.hdf5\""
   ]
  },
  {
   "cell_type": "code",
   "execution_count": 5,
   "metadata": {},
   "outputs": [],
   "source": [
    "subset_dataset(quark_gluon_path, train_path, 6000)\n",
    "subset_dataset(quark_gluon_path, val_path, 1200, 6000)\n",
    "subset_dataset(quark_gluon_path, test_path, 1200, 7200)"
   ]
  },
  {
   "cell_type": "code",
   "execution_count": 6,
   "metadata": {},
   "outputs": [],
   "source": [
    "def get_pillow(x):\n",
    "    return x.transpose((2,1,0))\n",
    "def get_k_nearest(indices, k = 10):\n",
    "    edges = None\n",
    "    for i in range(indices.shape[0]):\n",
    "        k_nearest = np.sum((indices - indices[i])**2, axis=1).argsort()\n",
    "        k_nearest_edges = np.array([[i, j] for j in k_nearest[1:k]])\n",
    "        if edges is None:\n",
    "            edges = k_nearest_edges\n",
    "        else:\n",
    "            edges = np.vstack((edges, k_nearest_edges))\n",
    "    return edges\n",
    "def create_graph(idx,quark_gluon_path ,outpath ):\n",
    "    data = Data()\n",
    "    with h5py.File(quark_gluon_path, 'r') as f:\n",
    "        y = f['y'][idx]\n",
    "        x = f['X_jets'][idx]\n",
    "        non_zero_indices = np.argwhere(np.sum(x, axis=2))\n",
    "        non_zero_fetures = x[non_zero_indices[:, 0], non_zero_indices[:, 1]]\n",
    "        data.x = torch.from_numpy(non_zero_fetures)\n",
    "        edges = get_k_nearest(non_zero_indices)\n",
    "        data.edge_index = torch.from_numpy(edges).t().contiguous()\n",
    "        data.y = torch.from_numpy(np.asarray([y]))\n",
    "        data.pos = torch.from_numpy(non_zero_indices)\n",
    "        torch.save(data, osp.join(outpath, f\"{idx}.pt\"))"
   ]
  },
  {
   "cell_type": "code",
   "execution_count": 13,
   "metadata": {},
   "outputs": [],
   "source": [
    "def grapher(root_dir = \"../Data/hdf5/processed\"):\n",
    "    files = [\"train.hdf5\", \"val.hdf5\", \"test.hdf5\"]\n",
    "    for file in files:\n",
    "        path = osp.join(root_dir , file)\n",
    "        with h5py.File(path, 'r') as f:\n",
    "            event_count = len(f[\"X_jets\"])\n",
    "        data = file.split(\".\")[0]\n",
    "        if len(os.listdir(\"../Data/Graphs/{}/raw\".format(data))) < 1:\n",
    "            for i in range(event_count):\n",
    "                print(data)\n",
    "                create_graph(i, path , \"../Data/Graphs/{}/raw\".format(data))"
   ]
  },
  {
   "cell_type": "code",
   "execution_count": 14,
   "metadata": {},
   "outputs": [],
   "source": [
    "grapher()"
   ]
  },
  {
   "cell_type": "code",
   "execution_count": 15,
   "metadata": {},
   "outputs": [],
   "source": [
    "class QuarkGluonGraphs(PygDataset):\n",
    "    def __init__(self, root = None, transform = None, pre_transform = None, pre_filter = None, log = True):\n",
    "        super().__init__(root, transform, pre_transform, pre_filter, log)\n",
    "        \n",
    "    @property\n",
    "    def raw_file_names(self):\n",
    "        return os.listdir(osp.join(self.root, \"raw\"))\n",
    "    \n",
    "    @property\n",
    "    def processed_file_names(self):\n",
    "        return os.listdir(osp.join(self.root, \"raw\"))\n",
    "    def download(self):\n",
    "        pass\n",
    "\n",
    "    def process(self):\n",
    "        for raw_path in self.raw_file_names:\n",
    "            data = torch.load(osp.join(self.raw_dir, raw_path))\n",
    "            data.y = F.one_hot(data.y.to(torch.int64), 2)\n",
    "            torch.save(data, osp.join(self.processed_dir, raw_path))\n",
    "    def len(self):\n",
    "        return len(self.processed_file_names)\n",
    "    def get(self, idx):\n",
    "        data = torch.load(osp.join(self.processed_dir, f\"{idx}.pt\"))\n",
    "        if self.transform is not None:\n",
    "            data = self.transform(data)\n",
    "        return data\n"
   ]
  },
  {
   "cell_type": "code",
   "execution_count": 16,
   "metadata": {},
   "outputs": [],
   "source": [
    "# device = torch.device('cuda' if torch.cuda.is_available() else 'cpu')\n",
    "device = \"cpu\"\n",
    "transform = T.Compose([\n",
    "    T.NormalizeFeatures(),\n",
    "    T.ToDevice(device),\n",
    "])\n",
    "train_data = QuarkGluonGraphs(\"../Data/Graphs/train/\", transform=transform)\n",
    "val_data = QuarkGluonGraphs(\"../Data/Graphs/val/\", transform=transform)\n",
    "test_data = QuarkGluonGraphs(\"../Data/Graphs/test/\", transform=transform)"
   ]
  },
  {
   "cell_type": "code",
   "execution_count": null,
   "metadata": {},
   "outputs": [],
   "source": []
  },
  {
   "cell_type": "code",
   "execution_count": 17,
   "metadata": {},
   "outputs": [],
   "source": [
    "class GCN(torch.nn.Module):\n",
    "    def __init__(self, feature_size):\n",
    "        super().__init__()\n",
    "        num_classes = 2\n",
    "        embedding_size = 1024\n",
    "\n",
    "        # GNN Layers\n",
    "        self.conv1 = GATConv(feature_size, embedding_size, heads=3, dropout=0.3)\n",
    "        self.head_transform1 = Linear(embedding_size*3, embedding_size)\n",
    "        self.pool1 = TopKPooling(embedding_size, ratio=0.8)\n",
    "        self.conv2 = GATConv(embedding_size, embedding_size, heads=3, dropout=0.3)\n",
    "        self.head_transform2 = Linear(embedding_size*3, embedding_size)\n",
    "        self.pool2 = TopKPooling(embedding_size, ratio=0.5)\n",
    "        self.conv3 = GATConv(embedding_size, embedding_size, heads=3, dropout=0.3)\n",
    "        self.head_transform3 = Linear(embedding_size*3, embedding_size)\n",
    "        self.pool3 = TopKPooling(embedding_size, ratio=0.2)\n",
    "\n",
    "        # Linear Layers\n",
    "        self.linear1 = Linear(embedding_size*2, embedding_size)\n",
    "        self.linear2 = Linear(embedding_size, num_classes)\n",
    "\n",
    "    def forward(self, x, edge_index, batch_index):\n",
    "        # first block\n",
    "        x = self.conv1(x, edge_index)\n",
    "        x = self.head_transform1(x)\n",
    "\n",
    "        x, edge_index, _, batch_index, _, _ = self.pool1(x, edge_index, None, batch_index) \n",
    "        x1 = torch.cat([gmp(x, batch_index), gap(x, batch_index)], dim=1)\n",
    "\n",
    "        # second block\n",
    "        x = self.conv2(x, edge_index)\n",
    "        x = self.head_transform2(x)\n",
    "\n",
    "        x, edge_index, _, batch_index, _, _ = self.pool2(x, edge_index, None, batch_index) \n",
    "        x2 = torch.cat([gmp(x, batch_index), gap(x, batch_index)], dim=1)\n",
    "\n",
    "        # Third block\n",
    "        x = self.conv3(x, edge_index)\n",
    "        x = self.head_transform3(x)\n",
    "\n",
    "        x, edge_index, _, batch_index, _, _ = self.pool3(x, edge_index, None, batch_index) \n",
    "        x3 = torch.cat([gmp(x, batch_index), gap(x, batch_index)], dim=1)\n",
    "\n",
    "        # concat pooled vectors\n",
    "        x = x1 + x2 + x3\n",
    "\n",
    "        # output block\n",
    "        x = self.linear1(x).relu()\n",
    "        x = F.dropout(x, p=0.5, training=self.training)\n",
    "        x = self.linear2(x)\n",
    "        # x = x.type(torch.float)\n",
    "        return x"
   ]
  },
  {
   "cell_type": "code",
   "execution_count": null,
   "metadata": {},
   "outputs": [],
   "source": []
  },
  {
   "cell_type": "code",
   "execution_count": null,
   "metadata": {},
   "outputs": [],
   "source": []
  },
  {
   "cell_type": "code",
   "execution_count": 18,
   "metadata": {},
   "outputs": [],
   "source": [
    "model = GCN(feature_size=train_data[0].x.shape[1])"
   ]
  },
  {
   "cell_type": "code",
   "execution_count": 19,
   "metadata": {},
   "outputs": [],
   "source": [
    "model = model.to(device)"
   ]
  },
  {
   "cell_type": "code",
   "execution_count": 20,
   "metadata": {},
   "outputs": [],
   "source": [
    "def count_parameters(model):\n",
    "    return sum(p.numel() for p in model.parameters() if p.requires_grad)"
   ]
  },
  {
   "cell_type": "code",
   "execution_count": 21,
   "metadata": {},
   "outputs": [
    {
     "data": {
      "text/plain": [
       "17871874"
      ]
     },
     "execution_count": 21,
     "metadata": {},
     "output_type": "execute_result"
    }
   ],
   "source": [
    "count_parameters(model)"
   ]
  },
  {
   "cell_type": "code",
   "execution_count": 22,
   "metadata": {},
   "outputs": [
    {
     "data": {
      "text/plain": [
       "GCN(\n",
       "  (conv1): GATConv(3, 1024, heads=3)\n",
       "  (head_transform1): Linear(3072, 1024, bias=True)\n",
       "  (pool1): TopKPooling(1024, ratio=0.8, multiplier=1.0)\n",
       "  (conv2): GATConv(1024, 1024, heads=3)\n",
       "  (head_transform2): Linear(3072, 1024, bias=True)\n",
       "  (pool2): TopKPooling(1024, ratio=0.5, multiplier=1.0)\n",
       "  (conv3): GATConv(1024, 1024, heads=3)\n",
       "  (head_transform3): Linear(3072, 1024, bias=True)\n",
       "  (pool3): TopKPooling(1024, ratio=0.2, multiplier=1.0)\n",
       "  (linear1): Linear(2048, 1024, bias=True)\n",
       "  (linear2): Linear(1024, 2, bias=True)\n",
       ")"
      ]
     },
     "execution_count": 22,
     "metadata": {},
     "output_type": "execute_result"
    }
   ],
   "source": [
    "model"
   ]
  },
  {
   "cell_type": "code",
   "execution_count": 23,
   "metadata": {},
   "outputs": [],
   "source": [
    "# weights = torch.tensor([0, 1], dtype=torch.float32).to(device)\n",
    "loss_fn = torch.nn.CrossEntropyLoss()#(weight=weights)\n",
    "optimizer = torch.optim.SGD(model.parameters(), lr=0.1, momentum=0.9)\n",
    "scheduler = torch.optim.lr_scheduler.ExponentialLR(optimizer, gamma=0.95)"
   ]
  },
  {
   "cell_type": "code",
   "execution_count": 24,
   "metadata": {},
   "outputs": [],
   "source": [
    "NUM_GRAPHS_PER_BATCH = 16\n",
    "train_loader = DataLoader(train_data,\n",
    "                          batch_size=NUM_GRAPHS_PER_BATCH, shuffle=True\n",
    "                          )\n",
    "test_loader = DataLoader(test_data,\n",
    "                         batch_size=NUM_GRAPHS_PER_BATCH,\n",
    "                         )"
   ]
  },
  {
   "cell_type": "code",
   "execution_count": 25,
   "metadata": {},
   "outputs": [],
   "source": [
    "def train(epochs, model, train_loader, loss_fn):\n",
    "    # Enumerate over the data\n",
    "    all_preds = []\n",
    "    all_labels = []\n",
    "    for _, batch in enumerate(tqdm(train_loader)):\n",
    "        # Reset gradients\n",
    "        optimizer.zero_grad()\n",
    "        # passing the node features and the connection info\n",
    "        pred = model(batch.x,\n",
    "                     batch.edge_index,\n",
    "                     batch.batch\n",
    "                     )\n",
    "        # Calculate the loss and the gradient\n",
    "        loss = torch.sqrt(loss_fn(pred, batch.y.float()))\n",
    "        loss.backward()\n",
    "        # Update using the gradients\n",
    "        optimizer.step()\n",
    "\n",
    "        all_preds.append(np.argmax(pred.cpu().detach().numpy(), axis=1))\n",
    "        all_labels.append(batch.y.cpu().detach().numpy())\n",
    "    all_preds = np.concatenate(all_preds).ravel()\n",
    "    all_labels = np.concatenate(all_labels).ravel()\n",
    "    return loss\n",
    "\n",
    "def test(epoch, model, test_loader, loss_fn):\n",
    "    all_preds = []\n",
    "    all_preds_raw = []\n",
    "    all_labels = []\n",
    "    running_loss = 0.0\n",
    "    step = 0\n",
    "    for batch in test_loader:\n",
    "        batch.to(device)  \n",
    "        pred = model(batch.x, \n",
    "                        batch.edge_index, \n",
    "                        batch.batch) \n",
    "        loss = torch.sqrt(loss_fn)\n",
    "\n",
    "         # Update tracking\n",
    "        running_loss += loss.item()\n",
    "        step += 1\n",
    "        all_preds.append(np.rint(torch.sigmoid(pred).cpu().detach().numpy()))\n",
    "        all_preds_raw.append(torch.sigmoid(pred).cpu().detach().numpy())\n",
    "        all_labels.append(batch.y.cpu().detach().numpy())\n",
    "    \n",
    "    all_preds = np.concatenate(all_preds).ravel()\n",
    "    all_labels = np.concatenate(all_labels).ravel()\n",
    "    print(all_preds_raw[0][:10])\n",
    "    print(all_preds[:10])\n",
    "    print(all_labels[:10])\n",
    "    return running_loss"
   ]
  },
  {
   "cell_type": "code",
   "execution_count": 26,
   "metadata": {},
   "outputs": [
    {
     "name": "stderr",
     "output_type": "stream",
     "text": [
      " 35%|███▍      | 131/375 [13:37<25:22,  6.24s/it]\n"
     ]
    },
    {
     "ename": "KeyboardInterrupt",
     "evalue": "",
     "output_type": "error",
     "traceback": [
      "\u001b[0;31m---------------------------------------------------------------------------\u001b[0m",
      "\u001b[0;31mKeyboardInterrupt\u001b[0m                         Traceback (most recent call last)",
      "Cell \u001b[0;32mIn[26], line 3\u001b[0m\n\u001b[1;32m      1\u001b[0m \u001b[39mfor\u001b[39;00m epoch \u001b[39min\u001b[39;00m \u001b[39mrange\u001b[39m(\u001b[39m10\u001b[39m):\n\u001b[1;32m      2\u001b[0m     model\u001b[39m.\u001b[39mtrain()\n\u001b[0;32m----> 3\u001b[0m     loss \u001b[39m=\u001b[39m train(epoch, model, train_loader, loss_fn)\n\u001b[1;32m      4\u001b[0m     loss \u001b[39m=\u001b[39m loss\u001b[39m.\u001b[39mdetach()\u001b[39m.\u001b[39mcpu()\u001b[39m.\u001b[39mnumpy()\n\u001b[1;32m      5\u001b[0m     \u001b[39mprint\u001b[39m(\u001b[39m\"\u001b[39m\u001b[39m Epoch \u001b[39m\u001b[39m{}\u001b[39;00m\u001b[39m | training loss \u001b[39m\u001b[39m{}\u001b[39;00m\u001b[39m\"\u001b[39m\u001b[39m.\u001b[39mformat(epoch, loss))\n",
      "Cell \u001b[0;32mIn[25], line 9\u001b[0m, in \u001b[0;36mtrain\u001b[0;34m(epochs, model, train_loader, loss_fn)\u001b[0m\n\u001b[1;32m      7\u001b[0m optimizer\u001b[39m.\u001b[39mzero_grad()\n\u001b[1;32m      8\u001b[0m \u001b[39m# passing the node features and the connection info\u001b[39;00m\n\u001b[0;32m----> 9\u001b[0m pred \u001b[39m=\u001b[39m model(batch\u001b[39m.\u001b[39;49mx,\n\u001b[1;32m     10\u001b[0m              batch\u001b[39m.\u001b[39;49medge_index,\n\u001b[1;32m     11\u001b[0m              batch\u001b[39m.\u001b[39;49mbatch\n\u001b[1;32m     12\u001b[0m              )\n\u001b[1;32m     13\u001b[0m \u001b[39m# Calculate the loss and the gradient\u001b[39;00m\n\u001b[1;32m     14\u001b[0m loss \u001b[39m=\u001b[39m torch\u001b[39m.\u001b[39msqrt(loss_fn(pred, batch\u001b[39m.\u001b[39my\u001b[39m.\u001b[39mfloat()))\n",
      "File \u001b[0;32m~/miniconda3/envs/gnn/lib/python3.9/site-packages/torch/nn/modules/module.py:1194\u001b[0m, in \u001b[0;36mModule._call_impl\u001b[0;34m(self, *input, **kwargs)\u001b[0m\n\u001b[1;32m   1190\u001b[0m \u001b[39m# If we don't have any hooks, we want to skip the rest of the logic in\u001b[39;00m\n\u001b[1;32m   1191\u001b[0m \u001b[39m# this function, and just call forward.\u001b[39;00m\n\u001b[1;32m   1192\u001b[0m \u001b[39mif\u001b[39;00m \u001b[39mnot\u001b[39;00m (\u001b[39mself\u001b[39m\u001b[39m.\u001b[39m_backward_hooks \u001b[39mor\u001b[39;00m \u001b[39mself\u001b[39m\u001b[39m.\u001b[39m_forward_hooks \u001b[39mor\u001b[39;00m \u001b[39mself\u001b[39m\u001b[39m.\u001b[39m_forward_pre_hooks \u001b[39mor\u001b[39;00m _global_backward_hooks\n\u001b[1;32m   1193\u001b[0m         \u001b[39mor\u001b[39;00m _global_forward_hooks \u001b[39mor\u001b[39;00m _global_forward_pre_hooks):\n\u001b[0;32m-> 1194\u001b[0m     \u001b[39mreturn\u001b[39;00m forward_call(\u001b[39m*\u001b[39;49m\u001b[39minput\u001b[39;49m, \u001b[39m*\u001b[39;49m\u001b[39m*\u001b[39;49mkwargs)\n\u001b[1;32m   1195\u001b[0m \u001b[39m# Do not call functions when jit is used\u001b[39;00m\n\u001b[1;32m   1196\u001b[0m full_backward_hooks, non_full_backward_hooks \u001b[39m=\u001b[39m [], []\n",
      "Cell \u001b[0;32mIn[17], line 28\u001b[0m, in \u001b[0;36mGCN.forward\u001b[0;34m(self, x, edge_index, batch_index)\u001b[0m\n\u001b[1;32m     25\u001b[0m x \u001b[39m=\u001b[39m \u001b[39mself\u001b[39m\u001b[39m.\u001b[39mhead_transform1(x)\n\u001b[1;32m     27\u001b[0m x, edge_index, _, batch_index, _, _ \u001b[39m=\u001b[39m \u001b[39mself\u001b[39m\u001b[39m.\u001b[39mpool1(x, edge_index, \u001b[39mNone\u001b[39;00m, batch_index) \n\u001b[0;32m---> 28\u001b[0m x1 \u001b[39m=\u001b[39m torch\u001b[39m.\u001b[39mcat([gmp(x, batch_index), gap(x, batch_index)], dim\u001b[39m=\u001b[39m\u001b[39m1\u001b[39m)\n\u001b[1;32m     30\u001b[0m \u001b[39m# second block\u001b[39;00m\n\u001b[1;32m     31\u001b[0m x \u001b[39m=\u001b[39m \u001b[39mself\u001b[39m\u001b[39m.\u001b[39mconv2(x, edge_index)\n",
      "File \u001b[0;32m~/miniconda3/envs/gnn/lib/python3.9/site-packages/torch_geometric/nn/pool/glob.py:85\u001b[0m, in \u001b[0;36mglobal_max_pool\u001b[0;34m(x, batch, size)\u001b[0m\n\u001b[1;32m     83\u001b[0m     \u001b[39mreturn\u001b[39;00m x\u001b[39m.\u001b[39mmax(dim\u001b[39m=\u001b[39m\u001b[39m-\u001b[39m\u001b[39m2\u001b[39m, keepdim\u001b[39m=\u001b[39mx\u001b[39m.\u001b[39mdim() \u001b[39m==\u001b[39m \u001b[39m2\u001b[39m)[\u001b[39m0\u001b[39m]\n\u001b[1;32m     84\u001b[0m size \u001b[39m=\u001b[39m \u001b[39mint\u001b[39m(batch\u001b[39m.\u001b[39mmax()\u001b[39m.\u001b[39mitem() \u001b[39m+\u001b[39m \u001b[39m1\u001b[39m) \u001b[39mif\u001b[39;00m size \u001b[39mis\u001b[39;00m \u001b[39mNone\u001b[39;00m \u001b[39melse\u001b[39;00m size\n\u001b[0;32m---> 85\u001b[0m \u001b[39mreturn\u001b[39;00m scatter(x, batch, dim\u001b[39m=\u001b[39;49m\u001b[39m-\u001b[39;49m\u001b[39m2\u001b[39;49m, dim_size\u001b[39m=\u001b[39;49msize, reduce\u001b[39m=\u001b[39;49m\u001b[39m'\u001b[39;49m\u001b[39mmax\u001b[39;49m\u001b[39m'\u001b[39;49m)\n",
      "File \u001b[0;32m~/miniconda3/envs/gnn/lib/python3.9/site-packages/torch_scatter/scatter.py:160\u001b[0m, in \u001b[0;36mscatter\u001b[0;34m(src, index, dim, out, dim_size, reduce)\u001b[0m\n\u001b[1;32m    158\u001b[0m     \u001b[39mreturn\u001b[39;00m scatter_min(src, index, dim, out, dim_size)[\u001b[39m0\u001b[39m]\n\u001b[1;32m    159\u001b[0m \u001b[39melif\u001b[39;00m reduce \u001b[39m==\u001b[39m \u001b[39m'\u001b[39m\u001b[39mmax\u001b[39m\u001b[39m'\u001b[39m:\n\u001b[0;32m--> 160\u001b[0m     \u001b[39mreturn\u001b[39;00m scatter_max(src, index, dim, out, dim_size)[\u001b[39m0\u001b[39m]\n\u001b[1;32m    161\u001b[0m \u001b[39melse\u001b[39;00m:\n\u001b[1;32m    162\u001b[0m     \u001b[39mraise\u001b[39;00m \u001b[39mValueError\u001b[39;00m\n",
      "File \u001b[0;32m~/miniconda3/envs/gnn/lib/python3.9/site-packages/torch_scatter/scatter.py:72\u001b[0m, in \u001b[0;36mscatter_max\u001b[0;34m(src, index, dim, out, dim_size)\u001b[0m\n\u001b[1;32m     68\u001b[0m \u001b[39mdef\u001b[39;00m \u001b[39mscatter_max\u001b[39m(\n\u001b[1;32m     69\u001b[0m         src: torch\u001b[39m.\u001b[39mTensor, index: torch\u001b[39m.\u001b[39mTensor, dim: \u001b[39mint\u001b[39m \u001b[39m=\u001b[39m \u001b[39m-\u001b[39m\u001b[39m1\u001b[39m,\n\u001b[1;32m     70\u001b[0m         out: Optional[torch\u001b[39m.\u001b[39mTensor] \u001b[39m=\u001b[39m \u001b[39mNone\u001b[39;00m,\n\u001b[1;32m     71\u001b[0m         dim_size: Optional[\u001b[39mint\u001b[39m] \u001b[39m=\u001b[39m \u001b[39mNone\u001b[39;00m) \u001b[39m-\u001b[39m\u001b[39m>\u001b[39m Tuple[torch\u001b[39m.\u001b[39mTensor, torch\u001b[39m.\u001b[39mTensor]:\n\u001b[0;32m---> 72\u001b[0m     \u001b[39mreturn\u001b[39;00m torch\u001b[39m.\u001b[39;49mops\u001b[39m.\u001b[39;49mtorch_scatter\u001b[39m.\u001b[39;49mscatter_max(src, index, dim, out, dim_size)\n",
      "File \u001b[0;32m~/miniconda3/envs/gnn/lib/python3.9/site-packages/torch/_ops.py:442\u001b[0m, in \u001b[0;36mOpOverloadPacket.__call__\u001b[0;34m(self, *args, **kwargs)\u001b[0m\n\u001b[1;32m    437\u001b[0m \u001b[39mdef\u001b[39;00m \u001b[39m__call__\u001b[39m(\u001b[39mself\u001b[39m, \u001b[39m*\u001b[39margs, \u001b[39m*\u001b[39m\u001b[39m*\u001b[39mkwargs):\n\u001b[1;32m    438\u001b[0m     \u001b[39m# overloading __call__ to ensure torch.ops.foo.bar()\u001b[39;00m\n\u001b[1;32m    439\u001b[0m     \u001b[39m# is still callable from JIT\u001b[39;00m\n\u001b[1;32m    440\u001b[0m     \u001b[39m# We save the function ptr as the `op` attribute on\u001b[39;00m\n\u001b[1;32m    441\u001b[0m     \u001b[39m# OpOverloadPacket to access it here.\u001b[39;00m\n\u001b[0;32m--> 442\u001b[0m     \u001b[39mreturn\u001b[39;00m \u001b[39mself\u001b[39;49m\u001b[39m.\u001b[39;49m_op(\u001b[39m*\u001b[39;49margs, \u001b[39m*\u001b[39;49m\u001b[39m*\u001b[39;49mkwargs \u001b[39mor\u001b[39;49;00m {})\n",
      "\u001b[0;31mKeyboardInterrupt\u001b[0m: "
     ]
    }
   ],
   "source": [
    "for epoch in range(10):\n",
    "    model.train()\n",
    "    loss = train(epoch, model, train_loader, loss_fn)\n",
    "    loss = loss.detach().cpu().numpy()\n",
    "    print(\" Epoch {} | training loss {}\".format(epoch, loss))\n",
    "    with torch.no_grad():\n",
    "        running_loss = test(epoch, model, test_loader, loss_fn)\n",
    "    print(\" Epoch {} | testing loss {}\".format(epoch, running_loss))\n",
    "    scheduler.step()"
   ]
  },
  {
   "cell_type": "code",
   "execution_count": null,
   "metadata": {},
   "outputs": [],
   "source": []
  },
  {
   "cell_type": "code",
   "execution_count": null,
   "metadata": {},
   "outputs": [],
   "source": []
  }
 ],
 "metadata": {
  "kernelspec": {
   "display_name": "gnn",
   "language": "python",
   "name": "python3"
  },
  "language_info": {
   "codemirror_mode": {
    "name": "ipython",
    "version": 3
   },
   "file_extension": ".py",
   "mimetype": "text/x-python",
   "name": "python",
   "nbconvert_exporter": "python",
   "pygments_lexer": "ipython3",
   "version": "3.9.16"
  },
  "orig_nbformat": 4,
  "vscode": {
   "interpreter": {
    "hash": "a7e9d0b6ec238a7d2d97d894925170bb7e5915a26ee8ae88ee5a8209d1d0e607"
   }
  }
 },
 "nbformat": 4,
 "nbformat_minor": 2
}
